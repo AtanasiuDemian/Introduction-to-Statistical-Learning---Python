{
 "cells": [
  {
   "cell_type": "markdown",
   "metadata": {},
   "source": [
    "# Analyzing the College.csv dataset"
   ]
  },
  {
   "cell_type": "code",
   "execution_count": 1,
   "metadata": {
    "collapsed": true
   },
   "outputs": [],
   "source": [
    "import numpy as np\n",
    "import matplotlib.pyplot as plt\n",
    "import pandas as pd\n",
    "import matplotlib.cm as cm\n",
    "import matplotlib as mpl\n",
    "from sklearn.linear_model import LinearRegression, RidgeCV, LassoCV\n",
    "from sklearn.model_selection import train_test_split, GridSearchCV\n",
    "from sklearn.metrics import mean_squared_error, r2_score\n",
    "from sklearn.decomposition import PCA\n",
    "import seaborn as sns\n",
    "sns.set()\n",
    "\n",
    "%matplotlib inline"
   ]
  },
  {
   "cell_type": "code",
   "execution_count": 2,
   "metadata": {},
   "outputs": [
    {
     "data": {
      "text/html": [
       "<div>\n",
       "<style>\n",
       "    .dataframe thead tr:only-child th {\n",
       "        text-align: right;\n",
       "    }\n",
       "\n",
       "    .dataframe thead th {\n",
       "        text-align: left;\n",
       "    }\n",
       "\n",
       "    .dataframe tbody tr th {\n",
       "        vertical-align: top;\n",
       "    }\n",
       "</style>\n",
       "<table border=\"1\" class=\"dataframe\">\n",
       "  <thead>\n",
       "    <tr style=\"text-align: right;\">\n",
       "      <th></th>\n",
       "      <th>Private</th>\n",
       "      <th>Apps</th>\n",
       "      <th>Accept</th>\n",
       "      <th>Enroll</th>\n",
       "      <th>Top10perc</th>\n",
       "      <th>Top25perc</th>\n",
       "      <th>F.Undergrad</th>\n",
       "      <th>P.Undergrad</th>\n",
       "      <th>Outstate</th>\n",
       "      <th>Room.Board</th>\n",
       "      <th>Books</th>\n",
       "      <th>Personal</th>\n",
       "      <th>PhD</th>\n",
       "      <th>Terminal</th>\n",
       "      <th>S.F.Ratio</th>\n",
       "      <th>perc.alumni</th>\n",
       "      <th>Expend</th>\n",
       "      <th>Grad.Rate</th>\n",
       "    </tr>\n",
       "  </thead>\n",
       "  <tbody>\n",
       "    <tr>\n",
       "      <th>0</th>\n",
       "      <td>Yes</td>\n",
       "      <td>1660</td>\n",
       "      <td>1232</td>\n",
       "      <td>721</td>\n",
       "      <td>23</td>\n",
       "      <td>52</td>\n",
       "      <td>2885</td>\n",
       "      <td>537</td>\n",
       "      <td>7440</td>\n",
       "      <td>3300</td>\n",
       "      <td>450</td>\n",
       "      <td>2200</td>\n",
       "      <td>70</td>\n",
       "      <td>78</td>\n",
       "      <td>18.1</td>\n",
       "      <td>12</td>\n",
       "      <td>7041</td>\n",
       "      <td>60</td>\n",
       "    </tr>\n",
       "    <tr>\n",
       "      <th>1</th>\n",
       "      <td>Yes</td>\n",
       "      <td>2186</td>\n",
       "      <td>1924</td>\n",
       "      <td>512</td>\n",
       "      <td>16</td>\n",
       "      <td>29</td>\n",
       "      <td>2683</td>\n",
       "      <td>1227</td>\n",
       "      <td>12280</td>\n",
       "      <td>6450</td>\n",
       "      <td>750</td>\n",
       "      <td>1500</td>\n",
       "      <td>29</td>\n",
       "      <td>30</td>\n",
       "      <td>12.2</td>\n",
       "      <td>16</td>\n",
       "      <td>10527</td>\n",
       "      <td>56</td>\n",
       "    </tr>\n",
       "    <tr>\n",
       "      <th>2</th>\n",
       "      <td>Yes</td>\n",
       "      <td>1428</td>\n",
       "      <td>1097</td>\n",
       "      <td>336</td>\n",
       "      <td>22</td>\n",
       "      <td>50</td>\n",
       "      <td>1036</td>\n",
       "      <td>99</td>\n",
       "      <td>11250</td>\n",
       "      <td>3750</td>\n",
       "      <td>400</td>\n",
       "      <td>1165</td>\n",
       "      <td>53</td>\n",
       "      <td>66</td>\n",
       "      <td>12.9</td>\n",
       "      <td>30</td>\n",
       "      <td>8735</td>\n",
       "      <td>54</td>\n",
       "    </tr>\n",
       "    <tr>\n",
       "      <th>3</th>\n",
       "      <td>Yes</td>\n",
       "      <td>417</td>\n",
       "      <td>349</td>\n",
       "      <td>137</td>\n",
       "      <td>60</td>\n",
       "      <td>89</td>\n",
       "      <td>510</td>\n",
       "      <td>63</td>\n",
       "      <td>12960</td>\n",
       "      <td>5450</td>\n",
       "      <td>450</td>\n",
       "      <td>875</td>\n",
       "      <td>92</td>\n",
       "      <td>97</td>\n",
       "      <td>7.7</td>\n",
       "      <td>37</td>\n",
       "      <td>19016</td>\n",
       "      <td>59</td>\n",
       "    </tr>\n",
       "    <tr>\n",
       "      <th>4</th>\n",
       "      <td>Yes</td>\n",
       "      <td>193</td>\n",
       "      <td>146</td>\n",
       "      <td>55</td>\n",
       "      <td>16</td>\n",
       "      <td>44</td>\n",
       "      <td>249</td>\n",
       "      <td>869</td>\n",
       "      <td>7560</td>\n",
       "      <td>4120</td>\n",
       "      <td>800</td>\n",
       "      <td>1500</td>\n",
       "      <td>76</td>\n",
       "      <td>72</td>\n",
       "      <td>11.9</td>\n",
       "      <td>2</td>\n",
       "      <td>10922</td>\n",
       "      <td>15</td>\n",
       "    </tr>\n",
       "  </tbody>\n",
       "</table>\n",
       "</div>"
      ],
      "text/plain": [
       "  Private  Apps  Accept  Enroll  Top10perc  Top25perc  F.Undergrad  \\\n",
       "0     Yes  1660    1232     721         23         52         2885   \n",
       "1     Yes  2186    1924     512         16         29         2683   \n",
       "2     Yes  1428    1097     336         22         50         1036   \n",
       "3     Yes   417     349     137         60         89          510   \n",
       "4     Yes   193     146      55         16         44          249   \n",
       "\n",
       "   P.Undergrad  Outstate  Room.Board  Books  Personal  PhD  Terminal  \\\n",
       "0          537      7440        3300    450      2200   70        78   \n",
       "1         1227     12280        6450    750      1500   29        30   \n",
       "2           99     11250        3750    400      1165   53        66   \n",
       "3           63     12960        5450    450       875   92        97   \n",
       "4          869      7560        4120    800      1500   76        72   \n",
       "\n",
       "   S.F.Ratio  perc.alumni  Expend  Grad.Rate  \n",
       "0       18.1           12    7041         60  \n",
       "1       12.2           16   10527         56  \n",
       "2       12.9           30    8735         54  \n",
       "3        7.7           37   19016         59  \n",
       "4       11.9            2   10922         15  "
      ]
     },
     "execution_count": 2,
     "metadata": {},
     "output_type": "execute_result"
    }
   ],
   "source": [
    "college=pd.read_csv('https://raw.githubusercontent.com/AtanasiuDemian/Introduction-to-Statistical-Learning---Python/master/Data/College.csv')\n",
    "college.drop('Unnamed: 0', axis=1, inplace=True)\n",
    "college.head()"
   ]
  },
  {
   "cell_type": "markdown",
   "metadata": {},
   "source": [
    "Look at the summary of this data:"
   ]
  },
  {
   "cell_type": "code",
   "execution_count": 3,
   "metadata": {},
   "outputs": [
    {
     "data": {
      "text/html": [
       "<div>\n",
       "<style>\n",
       "    .dataframe thead tr:only-child th {\n",
       "        text-align: right;\n",
       "    }\n",
       "\n",
       "    .dataframe thead th {\n",
       "        text-align: left;\n",
       "    }\n",
       "\n",
       "    .dataframe tbody tr th {\n",
       "        vertical-align: top;\n",
       "    }\n",
       "</style>\n",
       "<table border=\"1\" class=\"dataframe\">\n",
       "  <thead>\n",
       "    <tr style=\"text-align: right;\">\n",
       "      <th></th>\n",
       "      <th>Apps</th>\n",
       "      <th>Accept</th>\n",
       "      <th>Enroll</th>\n",
       "      <th>Top10perc</th>\n",
       "      <th>Top25perc</th>\n",
       "      <th>F.Undergrad</th>\n",
       "      <th>P.Undergrad</th>\n",
       "      <th>Outstate</th>\n",
       "      <th>Room.Board</th>\n",
       "      <th>Books</th>\n",
       "      <th>Personal</th>\n",
       "      <th>PhD</th>\n",
       "      <th>Terminal</th>\n",
       "      <th>S.F.Ratio</th>\n",
       "      <th>perc.alumni</th>\n",
       "      <th>Expend</th>\n",
       "      <th>Grad.Rate</th>\n",
       "    </tr>\n",
       "  </thead>\n",
       "  <tbody>\n",
       "    <tr>\n",
       "      <th>count</th>\n",
       "      <td>777.000000</td>\n",
       "      <td>777.000000</td>\n",
       "      <td>777.000000</td>\n",
       "      <td>777.000000</td>\n",
       "      <td>777.000000</td>\n",
       "      <td>777.000000</td>\n",
       "      <td>777.000000</td>\n",
       "      <td>777.000000</td>\n",
       "      <td>777.000000</td>\n",
       "      <td>777.000000</td>\n",
       "      <td>777.000000</td>\n",
       "      <td>777.000000</td>\n",
       "      <td>777.000000</td>\n",
       "      <td>777.000000</td>\n",
       "      <td>777.000000</td>\n",
       "      <td>777.000000</td>\n",
       "      <td>777.00000</td>\n",
       "    </tr>\n",
       "    <tr>\n",
       "      <th>mean</th>\n",
       "      <td>3001.638353</td>\n",
       "      <td>2018.804376</td>\n",
       "      <td>779.972973</td>\n",
       "      <td>27.558559</td>\n",
       "      <td>55.796654</td>\n",
       "      <td>3699.907336</td>\n",
       "      <td>855.298584</td>\n",
       "      <td>10440.669241</td>\n",
       "      <td>4357.526384</td>\n",
       "      <td>549.380952</td>\n",
       "      <td>1340.642214</td>\n",
       "      <td>72.660232</td>\n",
       "      <td>79.702703</td>\n",
       "      <td>14.089704</td>\n",
       "      <td>22.743887</td>\n",
       "      <td>9660.171171</td>\n",
       "      <td>65.46332</td>\n",
       "    </tr>\n",
       "    <tr>\n",
       "      <th>std</th>\n",
       "      <td>3870.201484</td>\n",
       "      <td>2451.113971</td>\n",
       "      <td>929.176190</td>\n",
       "      <td>17.640364</td>\n",
       "      <td>19.804778</td>\n",
       "      <td>4850.420531</td>\n",
       "      <td>1522.431887</td>\n",
       "      <td>4023.016484</td>\n",
       "      <td>1096.696416</td>\n",
       "      <td>165.105360</td>\n",
       "      <td>677.071454</td>\n",
       "      <td>16.328155</td>\n",
       "      <td>14.722359</td>\n",
       "      <td>3.958349</td>\n",
       "      <td>12.391801</td>\n",
       "      <td>5221.768440</td>\n",
       "      <td>17.17771</td>\n",
       "    </tr>\n",
       "    <tr>\n",
       "      <th>min</th>\n",
       "      <td>81.000000</td>\n",
       "      <td>72.000000</td>\n",
       "      <td>35.000000</td>\n",
       "      <td>1.000000</td>\n",
       "      <td>9.000000</td>\n",
       "      <td>139.000000</td>\n",
       "      <td>1.000000</td>\n",
       "      <td>2340.000000</td>\n",
       "      <td>1780.000000</td>\n",
       "      <td>96.000000</td>\n",
       "      <td>250.000000</td>\n",
       "      <td>8.000000</td>\n",
       "      <td>24.000000</td>\n",
       "      <td>2.500000</td>\n",
       "      <td>0.000000</td>\n",
       "      <td>3186.000000</td>\n",
       "      <td>10.00000</td>\n",
       "    </tr>\n",
       "    <tr>\n",
       "      <th>25%</th>\n",
       "      <td>776.000000</td>\n",
       "      <td>604.000000</td>\n",
       "      <td>242.000000</td>\n",
       "      <td>15.000000</td>\n",
       "      <td>41.000000</td>\n",
       "      <td>992.000000</td>\n",
       "      <td>95.000000</td>\n",
       "      <td>7320.000000</td>\n",
       "      <td>3597.000000</td>\n",
       "      <td>470.000000</td>\n",
       "      <td>850.000000</td>\n",
       "      <td>62.000000</td>\n",
       "      <td>71.000000</td>\n",
       "      <td>11.500000</td>\n",
       "      <td>13.000000</td>\n",
       "      <td>6751.000000</td>\n",
       "      <td>53.00000</td>\n",
       "    </tr>\n",
       "    <tr>\n",
       "      <th>50%</th>\n",
       "      <td>1558.000000</td>\n",
       "      <td>1110.000000</td>\n",
       "      <td>434.000000</td>\n",
       "      <td>23.000000</td>\n",
       "      <td>54.000000</td>\n",
       "      <td>1707.000000</td>\n",
       "      <td>353.000000</td>\n",
       "      <td>9990.000000</td>\n",
       "      <td>4200.000000</td>\n",
       "      <td>500.000000</td>\n",
       "      <td>1200.000000</td>\n",
       "      <td>75.000000</td>\n",
       "      <td>82.000000</td>\n",
       "      <td>13.600000</td>\n",
       "      <td>21.000000</td>\n",
       "      <td>8377.000000</td>\n",
       "      <td>65.00000</td>\n",
       "    </tr>\n",
       "    <tr>\n",
       "      <th>75%</th>\n",
       "      <td>3624.000000</td>\n",
       "      <td>2424.000000</td>\n",
       "      <td>902.000000</td>\n",
       "      <td>35.000000</td>\n",
       "      <td>69.000000</td>\n",
       "      <td>4005.000000</td>\n",
       "      <td>967.000000</td>\n",
       "      <td>12925.000000</td>\n",
       "      <td>5050.000000</td>\n",
       "      <td>600.000000</td>\n",
       "      <td>1700.000000</td>\n",
       "      <td>85.000000</td>\n",
       "      <td>92.000000</td>\n",
       "      <td>16.500000</td>\n",
       "      <td>31.000000</td>\n",
       "      <td>10830.000000</td>\n",
       "      <td>78.00000</td>\n",
       "    </tr>\n",
       "    <tr>\n",
       "      <th>max</th>\n",
       "      <td>48094.000000</td>\n",
       "      <td>26330.000000</td>\n",
       "      <td>6392.000000</td>\n",
       "      <td>96.000000</td>\n",
       "      <td>100.000000</td>\n",
       "      <td>31643.000000</td>\n",
       "      <td>21836.000000</td>\n",
       "      <td>21700.000000</td>\n",
       "      <td>8124.000000</td>\n",
       "      <td>2340.000000</td>\n",
       "      <td>6800.000000</td>\n",
       "      <td>103.000000</td>\n",
       "      <td>100.000000</td>\n",
       "      <td>39.800000</td>\n",
       "      <td>64.000000</td>\n",
       "      <td>56233.000000</td>\n",
       "      <td>118.00000</td>\n",
       "    </tr>\n",
       "  </tbody>\n",
       "</table>\n",
       "</div>"
      ],
      "text/plain": [
       "               Apps        Accept       Enroll   Top10perc   Top25perc  \\\n",
       "count    777.000000    777.000000   777.000000  777.000000  777.000000   \n",
       "mean    3001.638353   2018.804376   779.972973   27.558559   55.796654   \n",
       "std     3870.201484   2451.113971   929.176190   17.640364   19.804778   \n",
       "min       81.000000     72.000000    35.000000    1.000000    9.000000   \n",
       "25%      776.000000    604.000000   242.000000   15.000000   41.000000   \n",
       "50%     1558.000000   1110.000000   434.000000   23.000000   54.000000   \n",
       "75%     3624.000000   2424.000000   902.000000   35.000000   69.000000   \n",
       "max    48094.000000  26330.000000  6392.000000   96.000000  100.000000   \n",
       "\n",
       "        F.Undergrad   P.Undergrad      Outstate   Room.Board        Books  \\\n",
       "count    777.000000    777.000000    777.000000   777.000000   777.000000   \n",
       "mean    3699.907336    855.298584  10440.669241  4357.526384   549.380952   \n",
       "std     4850.420531   1522.431887   4023.016484  1096.696416   165.105360   \n",
       "min      139.000000      1.000000   2340.000000  1780.000000    96.000000   \n",
       "25%      992.000000     95.000000   7320.000000  3597.000000   470.000000   \n",
       "50%     1707.000000    353.000000   9990.000000  4200.000000   500.000000   \n",
       "75%     4005.000000    967.000000  12925.000000  5050.000000   600.000000   \n",
       "max    31643.000000  21836.000000  21700.000000  8124.000000  2340.000000   \n",
       "\n",
       "          Personal         PhD    Terminal   S.F.Ratio  perc.alumni  \\\n",
       "count   777.000000  777.000000  777.000000  777.000000   777.000000   \n",
       "mean   1340.642214   72.660232   79.702703   14.089704    22.743887   \n",
       "std     677.071454   16.328155   14.722359    3.958349    12.391801   \n",
       "min     250.000000    8.000000   24.000000    2.500000     0.000000   \n",
       "25%     850.000000   62.000000   71.000000   11.500000    13.000000   \n",
       "50%    1200.000000   75.000000   82.000000   13.600000    21.000000   \n",
       "75%    1700.000000   85.000000   92.000000   16.500000    31.000000   \n",
       "max    6800.000000  103.000000  100.000000   39.800000    64.000000   \n",
       "\n",
       "             Expend  Grad.Rate  \n",
       "count    777.000000  777.00000  \n",
       "mean    9660.171171   65.46332  \n",
       "std     5221.768440   17.17771  \n",
       "min     3186.000000   10.00000  \n",
       "25%     6751.000000   53.00000  \n",
       "50%     8377.000000   65.00000  \n",
       "75%    10830.000000   78.00000  \n",
       "max    56233.000000  118.00000  "
      ]
     },
     "execution_count": 3,
     "metadata": {},
     "output_type": "execute_result"
    }
   ],
   "source": [
    "college.describe()"
   ]
  },
  {
   "cell_type": "markdown",
   "metadata": {},
   "source": [
    "The variable \"Private\" is qualitative and records whether a given college is private or not. Is out-of-state tuition higher for private colleges?"
   ]
  },
  {
   "cell_type": "code",
   "execution_count": 4,
   "metadata": {},
   "outputs": [
    {
     "data": {
      "text/plain": [
       "<matplotlib.axes._subplots.AxesSubplot at 0xa7161ad748>"
      ]
     },
     "execution_count": 4,
     "metadata": {},
     "output_type": "execute_result"
    },
    {
     "data": {
      "image/png": "[encoded data removed]",
      "text/plain": [
       "<matplotlib.figure.Figure at 0xa71ab2db00>"
      ]
     },
     "metadata": {},
     "output_type": "display_data"
    }
   ],
   "source": [
    "sns.boxplot(x='Private', y='Outstate', data=college)"
   ]
  },
  {
   "cell_type": "markdown",
   "metadata": {
    "collapsed": true
   },
   "source": [
    "Private colleges have a wider spread of out-of-state tuition, whereas public ones have a narrower distribution and their tuitions, on average, are considerably lower than their private counterparts: several outlier values of public out-of-state tuition are close only to the median of tuitions for private colleges."
   ]
  },
  {
   "cell_type": "markdown",
   "metadata": {},
   "source": [
    "Create a qualitative variable $\\textbf{Elite}$ which records whether more than a half of the students at a college were in top 10% of their high school class. The percentage of students coming from top 10% is stored in variable $\\textbf{Top10perc}$."
   ]
  },
  {
   "cell_type": "code",
   "execution_count": 5,
   "metadata": {
    "collapsed": true
   },
   "outputs": [],
   "source": [
    "college['Elite']=['Yes' if college.iloc[i].Top10perc>50 else 'No' for i in college.index]"
   ]
  },
  {
   "cell_type": "markdown",
   "metadata": {},
   "source": [
    "Compare the out-state-tuition for elite colleges versus the rest:"
   ]
  },
  {
   "cell_type": "code",
   "execution_count": 6,
   "metadata": {},
   "outputs": [
    {
     "data": {
      "text/plain": [
       "<matplotlib.axes._subplots.AxesSubplot at 0xa71ad519b0>"
      ]
     },
     "execution_count": 6,
     "metadata": {},
     "output_type": "execute_result"
    },
    {
     "data": {
      "image/png": "[encoded data removed]",
      "text/plain": [
       "<matplotlib.figure.Figure at 0xa7128da518>"
      ]
     },
     "metadata": {},
     "output_type": "display_data"
    }
   ],
   "source": [
    "sns.boxplot(x='Elite', y='Outstate', data=college)"
   ]
  },
  {
   "cell_type": "markdown",
   "metadata": {},
   "source": [
    "It's interesting to observe that for quite a few Elite colleges less 2 thirds of students graduate:"
   ]
  },
  {
   "cell_type": "code",
   "execution_count": 7,
   "metadata": {},
   "outputs": [
    {
     "data": {
      "text/html": [
       "<div>\n",
       "<style>\n",
       "    .dataframe thead tr:only-child th {\n",
       "        text-align: right;\n",
       "    }\n",
       "\n",
       "    .dataframe thead th {\n",
       "        text-align: left;\n",
       "    }\n",
       "\n",
       "    .dataframe tbody tr th {\n",
       "        vertical-align: top;\n",
       "    }\n",
       "</style>\n",
       "<table border=\"1\" class=\"dataframe\">\n",
       "  <thead>\n",
       "    <tr style=\"text-align: right;\">\n",
       "      <th></th>\n",
       "      <th>Private</th>\n",
       "      <th>Apps</th>\n",
       "      <th>Accept</th>\n",
       "      <th>Enroll</th>\n",
       "      <th>Top10perc</th>\n",
       "      <th>Top25perc</th>\n",
       "      <th>F.Undergrad</th>\n",
       "      <th>P.Undergrad</th>\n",
       "      <th>Outstate</th>\n",
       "      <th>Room.Board</th>\n",
       "      <th>Books</th>\n",
       "      <th>Personal</th>\n",
       "      <th>PhD</th>\n",
       "      <th>Terminal</th>\n",
       "      <th>S.F.Ratio</th>\n",
       "      <th>perc.alumni</th>\n",
       "      <th>Expend</th>\n",
       "      <th>Grad.Rate</th>\n",
       "      <th>Elite</th>\n",
       "    </tr>\n",
       "  </thead>\n",
       "  <tbody>\n",
       "    <tr>\n",
       "      <th>3</th>\n",
       "      <td>Yes</td>\n",
       "      <td>417</td>\n",
       "      <td>349</td>\n",
       "      <td>137</td>\n",
       "      <td>60</td>\n",
       "      <td>89</td>\n",
       "      <td>510</td>\n",
       "      <td>63</td>\n",
       "      <td>12960</td>\n",
       "      <td>5450</td>\n",
       "      <td>450</td>\n",
       "      <td>875</td>\n",
       "      <td>92</td>\n",
       "      <td>97</td>\n",
       "      <td>7.7</td>\n",
       "      <td>37</td>\n",
       "      <td>19016</td>\n",
       "      <td>59</td>\n",
       "      <td>Yes</td>\n",
       "    </tr>\n",
       "    <tr>\n",
       "      <th>212</th>\n",
       "      <td>Yes</td>\n",
       "      <td>346</td>\n",
       "      <td>274</td>\n",
       "      <td>146</td>\n",
       "      <td>51</td>\n",
       "      <td>87</td>\n",
       "      <td>704</td>\n",
       "      <td>63</td>\n",
       "      <td>9900</td>\n",
       "      <td>3670</td>\n",
       "      <td>630</td>\n",
       "      <td>1818</td>\n",
       "      <td>59</td>\n",
       "      <td>59</td>\n",
       "      <td>10.5</td>\n",
       "      <td>14</td>\n",
       "      <td>8095</td>\n",
       "      <td>54</td>\n",
       "      <td>Yes</td>\n",
       "    </tr>\n",
       "    <tr>\n",
       "      <th>253</th>\n",
       "      <td>Yes</td>\n",
       "      <td>823</td>\n",
       "      <td>721</td>\n",
       "      <td>274</td>\n",
       "      <td>52</td>\n",
       "      <td>87</td>\n",
       "      <td>954</td>\n",
       "      <td>6</td>\n",
       "      <td>8800</td>\n",
       "      <td>3195</td>\n",
       "      <td>500</td>\n",
       "      <td>1200</td>\n",
       "      <td>82</td>\n",
       "      <td>99</td>\n",
       "      <td>13.1</td>\n",
       "      <td>26</td>\n",
       "      <td>8588</td>\n",
       "      <td>63</td>\n",
       "      <td>Yes</td>\n",
       "    </tr>\n",
       "    <tr>\n",
       "      <th>409</th>\n",
       "      <td>Yes</td>\n",
       "      <td>2220</td>\n",
       "      <td>1796</td>\n",
       "      <td>467</td>\n",
       "      <td>65</td>\n",
       "      <td>99</td>\n",
       "      <td>1919</td>\n",
       "      <td>334</td>\n",
       "      <td>10320</td>\n",
       "      <td>4762</td>\n",
       "      <td>450</td>\n",
       "      <td>650</td>\n",
       "      <td>68</td>\n",
       "      <td>100</td>\n",
       "      <td>14.2</td>\n",
       "      <td>20</td>\n",
       "      <td>7788</td>\n",
       "      <td>65</td>\n",
       "      <td>Yes</td>\n",
       "    </tr>\n",
       "    <tr>\n",
       "      <th>446</th>\n",
       "      <td>Yes</td>\n",
       "      <td>3821</td>\n",
       "      <td>2037</td>\n",
       "      <td>680</td>\n",
       "      <td>86</td>\n",
       "      <td>96</td>\n",
       "      <td>2488</td>\n",
       "      <td>625</td>\n",
       "      <td>18200</td>\n",
       "      <td>6770</td>\n",
       "      <td>500</td>\n",
       "      <td>700</td>\n",
       "      <td>95</td>\n",
       "      <td>98</td>\n",
       "      <td>11.6</td>\n",
       "      <td>13</td>\n",
       "      <td>16185</td>\n",
       "      <td>66</td>\n",
       "      <td>Yes</td>\n",
       "    </tr>\n",
       "    <tr>\n",
       "      <th>456</th>\n",
       "      <td>Yes</td>\n",
       "      <td>1132</td>\n",
       "      <td>847</td>\n",
       "      <td>302</td>\n",
       "      <td>58</td>\n",
       "      <td>89</td>\n",
       "      <td>1379</td>\n",
       "      <td>214</td>\n",
       "      <td>16200</td>\n",
       "      <td>4200</td>\n",
       "      <td>436</td>\n",
       "      <td>2486</td>\n",
       "      <td>90</td>\n",
       "      <td>90</td>\n",
       "      <td>10.4</td>\n",
       "      <td>14</td>\n",
       "      <td>14329</td>\n",
       "      <td>62</td>\n",
       "      <td>Yes</td>\n",
       "    </tr>\n",
       "    <tr>\n",
       "      <th>606</th>\n",
       "      <td>No</td>\n",
       "      <td>15698</td>\n",
       "      <td>10775</td>\n",
       "      <td>2478</td>\n",
       "      <td>85</td>\n",
       "      <td>100</td>\n",
       "      <td>12677</td>\n",
       "      <td>864</td>\n",
       "      <td>12024</td>\n",
       "      <td>5302</td>\n",
       "      <td>790</td>\n",
       "      <td>1818</td>\n",
       "      <td>96</td>\n",
       "      <td>96</td>\n",
       "      <td>16.1</td>\n",
       "      <td>11</td>\n",
       "      <td>15934</td>\n",
       "      <td>66</td>\n",
       "      <td>Yes</td>\n",
       "    </tr>\n",
       "    <tr>\n",
       "      <th>619</th>\n",
       "      <td>No</td>\n",
       "      <td>12445</td>\n",
       "      <td>8836</td>\n",
       "      <td>3623</td>\n",
       "      <td>54</td>\n",
       "      <td>85</td>\n",
       "      <td>24470</td>\n",
       "      <td>3286</td>\n",
       "      <td>7090</td>\n",
       "      <td>4180</td>\n",
       "      <td>630</td>\n",
       "      <td>1530</td>\n",
       "      <td>88</td>\n",
       "      <td>97</td>\n",
       "      <td>13.4</td>\n",
       "      <td>20</td>\n",
       "      <td>14737</td>\n",
       "      <td>66</td>\n",
       "      <td>Yes</td>\n",
       "    </tr>\n",
       "    <tr>\n",
       "      <th>639</th>\n",
       "      <td>No</td>\n",
       "      <td>1458</td>\n",
       "      <td>874</td>\n",
       "      <td>588</td>\n",
       "      <td>56</td>\n",
       "      <td>86</td>\n",
       "      <td>1846</td>\n",
       "      <td>154</td>\n",
       "      <td>9843</td>\n",
       "      <td>3180</td>\n",
       "      <td>600</td>\n",
       "      <td>1500</td>\n",
       "      <td>74</td>\n",
       "      <td>78</td>\n",
       "      <td>14.6</td>\n",
       "      <td>16</td>\n",
       "      <td>6716</td>\n",
       "      <td>51</td>\n",
       "      <td>Yes</td>\n",
       "    </tr>\n",
       "    <tr>\n",
       "      <th>666</th>\n",
       "      <td>Yes</td>\n",
       "      <td>4044</td>\n",
       "      <td>2826</td>\n",
       "      <td>688</td>\n",
       "      <td>51</td>\n",
       "      <td>83</td>\n",
       "      <td>2738</td>\n",
       "      <td>138</td>\n",
       "      <td>16230</td>\n",
       "      <td>4500</td>\n",
       "      <td>630</td>\n",
       "      <td>1800</td>\n",
       "      <td>79</td>\n",
       "      <td>86</td>\n",
       "      <td>15.0</td>\n",
       "      <td>17</td>\n",
       "      <td>11217</td>\n",
       "      <td>63</td>\n",
       "      <td>Yes</td>\n",
       "    </tr>\n",
       "  </tbody>\n",
       "</table>\n",
       "</div>"
      ],
      "text/plain": [
       "    Private   Apps  Accept  Enroll  Top10perc  Top25perc  F.Undergrad  \\\n",
       "3       Yes    417     349     137         60         89          510   \n",
       "212     Yes    346     274     146         51         87          704   \n",
       "253     Yes    823     721     274         52         87          954   \n",
       "409     Yes   2220    1796     467         65         99         1919   \n",
       "446     Yes   3821    2037     680         86         96         2488   \n",
       "456     Yes   1132     847     302         58         89         1379   \n",
       "606      No  15698   10775    2478         85        100        12677   \n",
       "619      No  12445    8836    3623         54         85        24470   \n",
       "639      No   1458     874     588         56         86         1846   \n",
       "666     Yes   4044    2826     688         51         83         2738   \n",
       "\n",
       "     P.Undergrad  Outstate  Room.Board  Books  Personal  PhD  Terminal  \\\n",
       "3             63     12960        5450    450       875   92        97   \n",
       "212           63      9900        3670    630      1818   59        59   \n",
       "253            6      8800        3195    500      1200   82        99   \n",
       "409          334     10320        4762    450       650   68       100   \n",
       "446          625     18200        6770    500       700   95        98   \n",
       "456          214     16200        4200    436      2486   90        90   \n",
       "606          864     12024        5302    790      1818   96        96   \n",
       "619         3286      7090        4180    630      1530   88        97   \n",
       "639          154      9843        3180    600      1500   74        78   \n",
       "666          138     16230        4500    630      1800   79        86   \n",
       "\n",
       "     S.F.Ratio  perc.alumni  Expend  Grad.Rate Elite  \n",
       "3          7.7           37   19016         59   Yes  \n",
       "212       10.5           14    8095         54   Yes  \n",
       "253       13.1           26    8588         63   Yes  \n",
       "409       14.2           20    7788         65   Yes  \n",
       "446       11.6           13   16185         66   Yes  \n",
       "456       10.4           14   14329         62   Yes  \n",
       "606       16.1           11   15934         66   Yes  \n",
       "619       13.4           20   14737         66   Yes  \n",
       "639       14.6           16    6716         51   Yes  \n",
       "666       15.0           17   11217         63   Yes  "
      ]
     },
     "execution_count": 7,
     "metadata": {},
     "output_type": "execute_result"
    }
   ],
   "source": [
    "college[(college.Elite=='Yes')&(college['Grad.Rate']<=66)]"
   ]
  },
  {
   "cell_type": "code",
   "execution_count": 8,
   "metadata": {},
   "outputs": [
    {
     "data": {
      "text/plain": [
       "<matplotlib.legend.Legend at 0xa71aefc358>"
      ]
     },
     "execution_count": 8,
     "metadata": {},
     "output_type": "execute_result"
    },
    {
     "data": {
      "image/png": "[encoded data removed]",
      "text/plain": [
       "<matplotlib.figure.Figure at 0xa71aeb55f8>"
      ]
     },
     "metadata": {},
     "output_type": "display_data"
    }
   ],
   "source": [
    "# Do public colleges receive more applications?\n",
    "college['Private']=(college.Private=='Yes')*1\n",
    "labels_to_use=['Public', 'Private']\n",
    "plt.figure(figsize=(10,7))\n",
    "for i, group in college.groupby('Private'):\n",
    "    plt.hist(group['Apps'], label=labels_to_use[i], alpha=0.6, ec='black')\n",
    "plt.xlabel('# of applications received')\n",
    "plt.ylabel('Count')\n",
    "plt.legend(loc='best')"
   ]
  },
  {
   "cell_type": "code",
   "execution_count": 9,
   "metadata": {},
   "outputs": [
    {
     "data": {
      "text/plain": [
       "Text(0,0.5,'Applications Received')"
      ]
     },
     "execution_count": 9,
     "metadata": {},
     "output_type": "execute_result"
    },
    {
     "data": {
      "image/png": "[encoded data removed]",
      "text/plain": [
       "<matplotlib.figure.Figure at 0xa71b46a400>"
      ]
     },
     "metadata": {},
     "output_type": "display_data"
    }
   ],
   "source": [
    "# Do colleges with more FT undergraduates receive more applications?\n",
    "plt.figure(figsize=(10,7))\n",
    "plt.scatter(college['F.Undergrad'], college['Apps'], alpha=0.3)\n",
    "plt.xlabel('Full-time Undergraduates')\n",
    "plt.ylabel('Applications Received')"
   ]
  },
  {
   "cell_type": "code",
   "execution_count": 10,
   "metadata": {},
   "outputs": [
    {
     "data": {
      "text/plain": [
       "<matplotlib.axes._subplots.AxesSubplot at 0xa71b0cc828>"
      ]
     },
     "execution_count": 10,
     "metadata": {},
     "output_type": "execute_result"
    },
    {
     "data": {
      "image/png": "[encoded data removed]",
      "text/plain": [
       "<matplotlib.figure.Figure at 0xa71b311f60>"
      ]
     },
     "metadata": {},
     "output_type": "display_data"
    }
   ],
   "source": [
    "college['Elite']=(college.Elite=='Yes')*1\n",
    "plt.figure(figsize=(12,8))\n",
    "sns.heatmap(college.corr(), vmin=-1, vmax=1)"
   ]
  },
  {
   "cell_type": "markdown",
   "metadata": {},
   "source": [
    "**Chapter 6, Exercise 9**"
   ]
  },
  {
   "cell_type": "code",
   "execution_count": 11,
   "metadata": {},
   "outputs": [
    {
     "name": "stdout",
     "output_type": "stream",
     "text": [
      "OLS MSE on test set: 739465.1191167424\n"
     ]
    }
   ],
   "source": [
    "# Split the data set into a training set and test set\n",
    "X_train, X_test, y_train, y_test = train_test_split(college.drop(['Apps'], axis=1), college['Apps'], \n",
    "                                                    test_size=0.3, random_state=10)\n",
    "\n",
    "# Fit an OLS model on the training set\n",
    "linear = LinearRegression()\n",
    "linear.fit(X_train, y_train)\n",
    "print('OLS MSE on test set: {}'.format(mean_squared_error(y_test, linear.predict(X_test))))"
   ]
  },
  {
   "cell_type": "code",
   "execution_count": 12,
   "metadata": {},
   "outputs": [
    {
     "name": "stdout",
     "output_type": "stream",
     "text": [
      "Best lambda: 1318.2567385564075 \n",
      "Ridge MSE on test set: 759575.8573715918\n"
     ]
    }
   ],
   "source": [
    "# Fit a Ridge Regression model\n",
    "# Choose suitable tuning parameter using cross-validation.\n",
    "lambdas=10**np.linspace(-2,6,101)\n",
    "RCV=RidgeCV(alphas=lambdas)\n",
    "RCV.fit(X_train, y_train)\n",
    "print('Best lambda: {} \\nRidge MSE on test set: {}'.format(RCV.alpha_, mean_squared_error(y_test, RCV.predict(X_test))))"
   ]
  },
  {
   "cell_type": "code",
   "execution_count": 13,
   "metadata": {},
   "outputs": [
    {
     "data": {
      "text/plain": [
       "Private       -12.842865\n",
       "Accept          1.623514\n",
       "Enroll         -1.080231\n",
       "Top10perc      51.718031\n",
       "Top25perc     -15.301355\n",
       "F.Undergrad     0.106219\n",
       "P.Undergrad     0.044963\n",
       "Outstate       -0.133651\n",
       "Room.Board      0.168329\n",
       "Books           0.032845\n",
       "Personal        0.012597\n",
       "PhD            -8.643254\n",
       "Terminal       -3.955490\n",
       "S.F.Ratio      24.425931\n",
       "perc.alumni    -0.474812\n",
       "Expend          0.106982\n",
       "Grad.Rate      12.764901\n",
       "Elite           3.649133\n",
       "dtype: float64"
      ]
     },
     "execution_count": 13,
     "metadata": {},
     "output_type": "execute_result"
    }
   ],
   "source": [
    "pd.Series(RCV.coef_, index=X_train.columns)"
   ]
  },
  {
   "cell_type": "code",
   "execution_count": 14,
   "metadata": {},
   "outputs": [
    {
     "name": "stdout",
     "output_type": "stream",
     "text": [
      "Best lambda: 301.9951720402019 \n",
      "Lasso MSE on test set: 730044.9949254057\n"
     ]
    }
   ],
   "source": [
    "# Fit a Lasso Regression model\n",
    "# Choose suitable tuning parameter using cross-validation\n",
    "LCV=LassoCV(alphas=lambdas)\n",
    "LCV.fit(X_train, y_train)\n",
    "#mean_squared_error(y_test, LCV.predict(X_test)\n",
    "print('Best lambda: {} \\nLasso MSE on test set: {}'.format(LCV.alpha_, mean_squared_error(y_test, LCV.predict(X_test))))"
   ]
  },
  {
   "cell_type": "code",
   "execution_count": 15,
   "metadata": {},
   "outputs": [
    {
     "data": {
      "text/plain": [
       "Private        -0.000000\n",
       "Accept          1.621320\n",
       "Enroll         -1.024950\n",
       "Top10perc      43.917702\n",
       "Top25perc      -9.427270\n",
       "F.Undergrad     0.100316\n",
       "P.Undergrad     0.037677\n",
       "Outstate       -0.138848\n",
       "Room.Board      0.166699\n",
       "Books           0.029746\n",
       "Personal        0.005525\n",
       "PhD            -7.253764\n",
       "Terminal       -2.764689\n",
       "S.F.Ratio       0.000000\n",
       "perc.alumni    -0.000000\n",
       "Expend          0.101788\n",
       "Grad.Rate      11.032763\n",
       "Elite           0.000000\n",
       "dtype: float64"
      ]
     },
     "execution_count": 15,
     "metadata": {},
     "output_type": "execute_result"
    }
   ],
   "source": [
    "pd.Series(LCV.coef_, index=X_train.columns)"
   ]
  },
  {
   "cell_type": "markdown",
   "metadata": {},
   "source": [
    "Since Lasso performs variable selection, we expect some coefficients to be 0."
   ]
  },
  {
   "cell_type": "markdown",
   "metadata": {},
   "source": [
    "I will now fit a PCR model on the training set, with the number of components chosen by cross-validation."
   ]
  },
  {
   "cell_type": "code",
   "execution_count": 16,
   "metadata": {},
   "outputs": [
    {
     "name": "stdout",
     "output_type": "stream",
     "text": [
      "Optimal number of PCR components: {'n_components': 17}\n"
     ]
    }
   ],
   "source": [
    "pca=PCA()\n",
    "components={'n_components':list(range(1,19))}\n",
    "gs=GridSearchCV(pca, param_grid=components)\n",
    "gs.fit(X_train, y_train)\n",
    "print('Optimal number of PCR components: {}'.format(gs.best_params_))"
   ]
  },
  {
   "cell_type": "code",
   "execution_count": 17,
   "metadata": {},
   "outputs": [
    {
     "name": "stdout",
     "output_type": "stream",
     "text": [
      "PCR test MSE: 736371.4863335437\n"
     ]
    }
   ],
   "source": [
    "# Fit a linear regression model using the principal components as predictors\n",
    "pca=PCA(n_components=17)\n",
    "pca.fit(X_train, y_train)\n",
    "X_train_pca, X_test_pca = pca.transform(X_train), pca.transform(X_test)\n",
    "\n",
    "PCA_linear=LinearRegression()\n",
    "PCA_linear.fit(X_train_pca, y_train)\n",
    "print('PCR test MSE: {}'.format(mean_squared_error(y_test, PCA_linear.predict(X_test_pca))))"
   ]
  },
  {
   "cell_type": "markdown",
   "metadata": {},
   "source": [
    "I will now compare the test $R^2$ of the models, since this measure is easier to interpret."
   ]
  },
  {
   "cell_type": "code",
   "execution_count": 18,
   "metadata": {},
   "outputs": [
    {
     "data": {
      "text/plain": [
       "OLS      0.934021\n",
       "Ridge    0.932226\n",
       "Lasso    0.934861\n",
       "PCR      0.934297\n",
       "dtype: float64"
      ]
     },
     "execution_count": 18,
     "metadata": {},
     "output_type": "execute_result"
    }
   ],
   "source": [
    "OLS_test_R2 = r2_score(y_test, linear.predict(X_test))\n",
    "ridge_test_R2 = r2_score(y_test, RCV.predict(X_test))\n",
    "lasso_test_R2 = r2_score(y_test, LCV.predict(X_test))\n",
    "PCR_test_R2 = r2_score(y_test, PCA_linear.predict(X_test_pca))\n",
    "\n",
    "scores=[OLS_test_R2, ridge_test_R2, lasso_test_R2, PCR_test_R2]\n",
    "pd.Series(scores, index=['OLS', 'Ridge', 'Lasso', 'PCR'])"
   ]
  },
  {
   "cell_type": "markdown",
   "metadata": {},
   "source": [
    "In conclusion, all 4 regression methods perform well on this dataset."
   ]
  }
 ],
 "metadata": {
  "kernelspec": {
   "display_name": "Python 3",
   "language": "python",
   "name": "python3"
  },
  "language_info": {
   "codemirror_mode": {
    "name": "ipython",
    "version": 3
   },
   "file_extension": ".py",
   "mimetype": "text/x-python",
   "name": "python",
   "nbconvert_exporter": "python",
   "pygments_lexer": "ipython3",
   "version": "3.6.3"
  }
 },
 "nbformat": 4,
 "nbformat_minor": 2
}
