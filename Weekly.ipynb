{
 "cells": [
  {
   "cell_type": "code",
   "execution_count": 5,
   "metadata": {
    "collapsed": true
   },
   "outputs": [],
   "source": [
    "import numpy as np\n",
    "import pandas as pd\n",
    "import matplotlib.pyplot as plt\n",
    "from sklearn.linear_model import LogisticRegression\n",
    "import seaborn as sns"
   ]
  },
  {
   "cell_type": "code",
   "execution_count": 6,
   "metadata": {},
   "outputs": [
    {
     "data": {
      "text/html": [
       "<div>\n",
       "<style>\n",
       "    .dataframe thead tr:only-child th {\n",
       "        text-align: right;\n",
       "    }\n",
       "\n",
       "    .dataframe thead th {\n",
       "        text-align: left;\n",
       "    }\n",
       "\n",
       "    .dataframe tbody tr th {\n",
       "        vertical-align: top;\n",
       "    }\n",
       "</style>\n",
       "<table border=\"1\" class=\"dataframe\">\n",
       "  <thead>\n",
       "    <tr style=\"text-align: right;\">\n",
       "      <th></th>\n",
       "      <th>Year</th>\n",
       "      <th>Lag1</th>\n",
       "      <th>Lag2</th>\n",
       "      <th>Lag3</th>\n",
       "      <th>Lag4</th>\n",
       "      <th>Lag5</th>\n",
       "      <th>Volume</th>\n",
       "      <th>Today</th>\n",
       "      <th>Direction</th>\n",
       "    </tr>\n",
       "  </thead>\n",
       "  <tbody>\n",
       "    <tr>\n",
       "      <th>0</th>\n",
       "      <td>1990</td>\n",
       "      <td>0.816</td>\n",
       "      <td>1.572</td>\n",
       "      <td>-3.936</td>\n",
       "      <td>-0.229</td>\n",
       "      <td>-3.484</td>\n",
       "      <td>0.154976</td>\n",
       "      <td>-0.270</td>\n",
       "      <td>0</td>\n",
       "    </tr>\n",
       "    <tr>\n",
       "      <th>1</th>\n",
       "      <td>1990</td>\n",
       "      <td>-0.270</td>\n",
       "      <td>0.816</td>\n",
       "      <td>1.572</td>\n",
       "      <td>-3.936</td>\n",
       "      <td>-0.229</td>\n",
       "      <td>0.148574</td>\n",
       "      <td>-2.576</td>\n",
       "      <td>0</td>\n",
       "    </tr>\n",
       "    <tr>\n",
       "      <th>2</th>\n",
       "      <td>1990</td>\n",
       "      <td>-2.576</td>\n",
       "      <td>-0.270</td>\n",
       "      <td>0.816</td>\n",
       "      <td>1.572</td>\n",
       "      <td>-3.936</td>\n",
       "      <td>0.159837</td>\n",
       "      <td>3.514</td>\n",
       "      <td>1</td>\n",
       "    </tr>\n",
       "    <tr>\n",
       "      <th>3</th>\n",
       "      <td>1990</td>\n",
       "      <td>3.514</td>\n",
       "      <td>-2.576</td>\n",
       "      <td>-0.270</td>\n",
       "      <td>0.816</td>\n",
       "      <td>1.572</td>\n",
       "      <td>0.161630</td>\n",
       "      <td>0.712</td>\n",
       "      <td>1</td>\n",
       "    </tr>\n",
       "    <tr>\n",
       "      <th>4</th>\n",
       "      <td>1990</td>\n",
       "      <td>0.712</td>\n",
       "      <td>3.514</td>\n",
       "      <td>-2.576</td>\n",
       "      <td>-0.270</td>\n",
       "      <td>0.816</td>\n",
       "      <td>0.153728</td>\n",
       "      <td>1.178</td>\n",
       "      <td>1</td>\n",
       "    </tr>\n",
       "  </tbody>\n",
       "</table>\n",
       "</div>"
      ],
      "text/plain": [
       "   Year   Lag1   Lag2   Lag3   Lag4   Lag5    Volume  Today  Direction\n",
       "0  1990  0.816  1.572 -3.936 -0.229 -3.484  0.154976 -0.270          0\n",
       "1  1990 -0.270  0.816  1.572 -3.936 -0.229  0.148574 -2.576          0\n",
       "2  1990 -2.576 -0.270  0.816  1.572 -3.936  0.159837  3.514          1\n",
       "3  1990  3.514 -2.576 -0.270  0.816  1.572  0.161630  0.712          1\n",
       "4  1990  0.712  3.514 -2.576 -0.270  0.816  0.153728  1.178          1"
      ]
     },
     "execution_count": 6,
     "metadata": {},
     "output_type": "execute_result"
    }
   ],
   "source": [
    "weekly=pd.read_csv('https://raw.githubusercontent.com/vincentarelbundock/Rdatasets/master/csv/ISLR/Weekly.csv')\n",
    "weekly.drop(labels='Unnamed: 0', axis=1, inplace=True)\n",
    "\n",
    "# One hot encode the categorical variable Direction\n",
    "weekly['Direction']=(weekly.Direction=='Up')*1\n",
    "weekly.head()"
   ]
  },
  {
   "cell_type": "markdown",
   "metadata": {},
   "source": [
    "$\\textbf{Chapter 5, Exercise 7}$"
   ]
  },
  {
   "cell_type": "code",
   "execution_count": 7,
   "metadata": {},
   "outputs": [
    {
     "name": "stdout",
     "output_type": "stream",
     "text": [
      "Predicted Direction of first observation: 1 \n",
      "Actual Direction of first observation: 0.0\n"
     ]
    }
   ],
   "source": [
    "# Fit a logistic model predicting Direction using Lag1 and Lag2 using all but the first observation\n",
    "X_train=weekly.drop(0, axis=0, inplace=False)[['Lag1', 'Lag2']].values\n",
    "y_train=weekly.drop(0, axis=0, inplace=False)['Direction'].values\n",
    "logreg=LogisticRegression()\n",
    "logreg.fit(X_train, y_train)\n",
    "print('Predicted Direction of first observation: {} \\nActual Direction of first observation: {}'.format(\n",
    "logreg.predict(weekly.loc[0,:][['Lag1','Lag2']].values.reshape(1,-1))[0], weekly.loc[0,:]['Direction']))"
   ]
  },
  {
   "cell_type": "code",
   "execution_count": 8,
   "metadata": {},
   "outputs": [
    {
     "name": "stdout",
     "output_type": "stream",
     "text": [
      "Test error: 0.44995408631772266\n"
     ]
    }
   ],
   "source": [
    "# Implement Leave One Out Cross Validation (LOOCV) with Direction as response and Lag1 and Lag2 as predictors.\n",
    "n,errors=len(weekly.Direction),0\n",
    "for i in range(n):\n",
    "    X_train, y_train = weekly.drop(i, axis=0, inplace=False)[['Lag1', 'Lag2']],weekly.drop(i, axis=0, inplace=False)['Direction']\n",
    "    X_train=X_train.values\n",
    "    y_train=y_train.values\n",
    "    X_test=weekly.loc[i,:][['Lag1','Lag2']].values\n",
    "    regression_model=LogisticRegression()\n",
    "    regression_model.fit(X_train, y_train)\n",
    "    if weekly.loc[i,:]['Direction']!=regression_model.predict(X_test.reshape(1,-1))[0]:\n",
    "        errors+=1\n",
    "print('Test error: {}'.format(float(errors)/n))"
   ]
  }
 ],
 "metadata": {
  "kernelspec": {
   "display_name": "Python 3",
   "language": "python",
   "name": "python3"
  },
  "language_info": {
   "codemirror_mode": {
    "name": "ipython",
    "version": 3
   },
   "file_extension": ".py",
   "mimetype": "text/x-python",
   "name": "python",
   "nbconvert_exporter": "python",
   "pygments_lexer": "ipython3",
   "version": "3.6.3"
  }
 },
 "nbformat": 4,
 "nbformat_minor": 2
}
