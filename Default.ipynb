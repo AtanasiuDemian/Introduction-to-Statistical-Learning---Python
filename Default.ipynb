{
 "cells": [
  {
   "cell_type": "markdown",
   "metadata": {},
   "source": [
    "# Analyzing the Default dataset"
   ]
  },
  {
   "cell_type": "code",
   "execution_count": 165,
   "metadata": {
    "collapsed": true
   },
   "outputs": [],
   "source": [
    "import numpy as np\n",
    "import pandas as pd\n",
    "import matplotlib.pyplot as plt\n",
    "import statsmodels.api as sm\n",
    "from statsmodels.formula.api import logit\n",
    "from sklearn.model_selection import train_test_split\n",
    "from sklearn.linear_model import LogisticRegression\n",
    "from sklearn.metrics import accuracy_score\n",
    "import seaborn as sns\n",
    "%matplotlib inline"
   ]
  },
  {
   "cell_type": "code",
   "execution_count": 166,
   "metadata": {},
   "outputs": [
    {
     "data": {
      "text/html": [
       "<div>\n",
       "<style>\n",
       "    .dataframe thead tr:only-child th {\n",
       "        text-align: right;\n",
       "    }\n",
       "\n",
       "    .dataframe thead th {\n",
       "        text-align: left;\n",
       "    }\n",
       "\n",
       "    .dataframe tbody tr th {\n",
       "        vertical-align: top;\n",
       "    }\n",
       "</style>\n",
       "<table border=\"1\" class=\"dataframe\">\n",
       "  <thead>\n",
       "    <tr style=\"text-align: right;\">\n",
       "      <th></th>\n",
       "      <th>default</th>\n",
       "      <th>student</th>\n",
       "      <th>balance</th>\n",
       "      <th>income</th>\n",
       "    </tr>\n",
       "  </thead>\n",
       "  <tbody>\n",
       "    <tr>\n",
       "      <th>0</th>\n",
       "      <td>No</td>\n",
       "      <td>No</td>\n",
       "      <td>729.526495</td>\n",
       "      <td>44361.62507</td>\n",
       "    </tr>\n",
       "    <tr>\n",
       "      <th>1</th>\n",
       "      <td>No</td>\n",
       "      <td>Yes</td>\n",
       "      <td>817.180407</td>\n",
       "      <td>12106.13470</td>\n",
       "    </tr>\n",
       "    <tr>\n",
       "      <th>2</th>\n",
       "      <td>No</td>\n",
       "      <td>No</td>\n",
       "      <td>1073.549164</td>\n",
       "      <td>31767.13895</td>\n",
       "    </tr>\n",
       "    <tr>\n",
       "      <th>3</th>\n",
       "      <td>No</td>\n",
       "      <td>No</td>\n",
       "      <td>529.250605</td>\n",
       "      <td>35704.49394</td>\n",
       "    </tr>\n",
       "    <tr>\n",
       "      <th>4</th>\n",
       "      <td>No</td>\n",
       "      <td>No</td>\n",
       "      <td>785.655883</td>\n",
       "      <td>38463.49588</td>\n",
       "    </tr>\n",
       "  </tbody>\n",
       "</table>\n",
       "</div>"
      ],
      "text/plain": [
       "  default student      balance       income\n",
       "0      No      No   729.526495  44361.62507\n",
       "1      No     Yes   817.180407  12106.13470\n",
       "2      No      No  1073.549164  31767.13895\n",
       "3      No      No   529.250605  35704.49394\n",
       "4      No      No   785.655883  38463.49588"
      ]
     },
     "execution_count": 166,
     "metadata": {},
     "output_type": "execute_result"
    }
   ],
   "source": [
    "default=pd.read_csv('https://raw.githubusercontent.com/AtanasiuDemian/Introduction-to-Statistical-Learning---Python/master/Data/Default.csv')\n",
    "default.drop(labels='Unnamed: 0', axis=1, inplace=True)\n",
    "default.head()"
   ]
  },
  {
   "cell_type": "markdown",
   "metadata": {},
   "source": [
    "$\\textbf{Chapter 5, Exercise 5}$. "
   ]
  },
  {
   "cell_type": "markdown",
   "metadata": {},
   "source": [
    "I will now  one hot encode the categorical variables (i.e. default and student). "
   ]
  },
  {
   "cell_type": "code",
   "execution_count": 167,
   "metadata": {},
   "outputs": [
    {
     "data": {
      "text/plain": [
       "((7000, 4), (3000, 4))"
      ]
     },
     "execution_count": 167,
     "metadata": {},
     "output_type": "execute_result"
    }
   ],
   "source": [
    "default['default']=(default.default=='Yes')*1\n",
    "default['student']=(default.student=='Yes')*1\n",
    "# Split data set into a training set and validation set\n",
    "default_train, default_val = train_test_split(default, test_size=0.3)\n",
    "default_train.shape, default_val.shape"
   ]
  },
  {
   "cell_type": "code",
   "execution_count": 168,
   "metadata": {},
   "outputs": [
    {
     "name": "stdout",
     "output_type": "stream",
     "text": [
      "Test error: 0.033\n"
     ]
    }
   ],
   "source": [
    "# balance_mean, balance_sd = default_train['balance'].mean(), default_train['balance'].std()\n",
    "# income_mean, income_sd = default_train['income'].mean(), default_train['income'].std()\n",
    "# default_train.loc[:, 'balance']=(default_train['balance']-balance_mean)/balance_sd\n",
    "# default_val.loc[:, 'balance']=(default_val['balance']-balance_mean)/balance_sd\n",
    "# default_train.loc[:, 'income']=(default_train['income']-income_mean)/income_sd\n",
    "# default_val.loc[:, 'income']=(default_val['income']-income_mean)/income_sd\n",
    "\n",
    "# default_val.head()\n",
    "\n",
    "X_train, y_train = default_train[['balance', 'income']], default_train['default']\n",
    "X_val, y_val = default_val[['balance', 'income']], default_val['default']\n",
    "# Fit a multiple logistic model to the training set\n",
    "logreg=LogisticRegression()\n",
    "logreg.fit(X_train, y_train)\n",
    "error=np.mean((y_val!=logreg.predict(X_val))*1)\n",
    "print('Test error: {}'.format(error))"
   ]
  },
  {
   "cell_type": "markdown",
   "metadata": {},
   "source": [
    "I will repeat this process several times, each with a different split:"
   ]
  },
  {
   "cell_type": "code",
   "execution_count": 169,
   "metadata": {},
   "outputs": [
    {
     "data": {
      "text/plain": [
       "[0.037333333333333336,\n",
       " 0.03266666666666666,\n",
       " 0.03166666666666667,\n",
       " 0.038,\n",
       " 0.030333333333333334,\n",
       " 0.03666666666666667,\n",
       " 0.03233333333333333,\n",
       " 0.036333333333333336,\n",
       " 0.03333333333333333,\n",
       " 0.03166666666666667]"
      ]
     },
     "execution_count": 169,
     "metadata": {},
     "output_type": "execute_result"
    }
   ],
   "source": [
    "test_errors=[]\n",
    "for trial in range(10):\n",
    "    default_train, default_val = train_test_split(default, test_size=0.3)\n",
    "    X_train, y_train = default_train[['balance', 'income']], default_train['default']\n",
    "    X_val, y_val = default_val[['balance', 'income']], default_val['default']\n",
    "    logreg=LogisticRegression()\n",
    "    logreg.fit(X_train, y_train)\n",
    "    test_errors.append(np.mean((y_val!=logreg.predict(X_val))*1))\n",
    "test_errors"
   ]
  },
  {
   "cell_type": "markdown",
   "metadata": {},
   "source": [
    "The test scores across different splits of training/test sets seem to be quite similar."
   ]
  },
  {
   "cell_type": "code",
   "execution_count": 170,
   "metadata": {},
   "outputs": [
    {
     "name": "stdout",
     "output_type": "stream",
     "text": [
      "Test error on model with all predictors: 0.03766666666666667\n"
     ]
    }
   ],
   "source": [
    "# Fit a logistic regression model containing all predictors\n",
    "default_train, default_val = train_test_split(default, test_size=0.3)\n",
    "X_train, y_train = default_train[['balance', 'income', 'student']], default_train['default']\n",
    "X_val, y_val = default_val[['balance', 'income', 'student']], default_val['default']\n",
    "all_preds=LogisticRegression()\n",
    "all_preds.fit(X_train, y_train)\n",
    "print ('Test error on model with all predictors: {}'.format(np.mean((y_val!=all_preds.predict(X_val))*1)))"
   ]
  },
  {
   "cell_type": "markdown",
   "metadata": {},
   "source": [
    "Including the student variable does not lead to any significant changes."
   ]
  }
 ],
 "metadata": {
  "kernelspec": {
   "display_name": "Python 3",
   "language": "python",
   "name": "python3"
  },
  "language_info": {
   "codemirror_mode": {
    "name": "ipython",
    "version": 3
   },
   "file_extension": ".py",
   "mimetype": "text/x-python",
   "name": "python",
   "nbconvert_exporter": "python",
   "pygments_lexer": "ipython3",
   "version": "3.6.3"
  }
 },
 "nbformat": 4,
 "nbformat_minor": 2
}
